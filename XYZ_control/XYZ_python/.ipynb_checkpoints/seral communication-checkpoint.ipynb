{
 "metadata": {
  "name": "",
  "signature": "sha256:2abe981b75f1ba64c735269878e221ffb62f158685afb613635a80472973992c"
 },
 "nbformat": 3,
 "nbformat_minor": 0,
 "worksheets": [
  {
   "cells": [
    {
     "cell_type": "code",
     "collapsed": false,
     "input": [
      "import sys\n",
      "import glob\n",
      "import serial\n",
      "\n",
      "from IPython.html.widgets import interact, interactive, fixed\n",
      "from IPython.html import widgets\n",
      "from IPython.display import clear_output, display, HTML"
     ],
     "language": "python",
     "metadata": {},
     "outputs": [],
     "prompt_number": 102
    },
    {
     "cell_type": "code",
     "collapsed": false,
     "input": [
      "def serial_ports():\n",
      "    \"\"\"Lists serial ports\n",
      "\n",
      "    :raises EnvironmentError:\n",
      "        On unsupported or unknown platforms\n",
      "    :returns:\n",
      "        A list of available serial ports\n",
      "    \"\"\"\n",
      "    if sys.platform.startswith('win'):\n",
      "        ports = ['COM' + str(i + 1) for i in range(256)]\n",
      "\n",
      "    elif sys.platform.startswith('linux') or sys.platform.startswith('cygwin'):\n",
      "        # this is to exclude your current terminal \"/dev/tty\"\n",
      "        ports = glob.glob('/dev/tty[A-Za-z]*')\n",
      "\n",
      "    elif sys.platform.startswith('darwin'):\n",
      "        ports = glob.glob('/dev/tty.*')\n",
      "\n",
      "    else:\n",
      "        raise EnvironmentError('Unsupported platform')\n",
      "\n",
      "    result = []\n",
      "    for port in ports:\n",
      "        try:\n",
      "            s = serial.Serial(port)\n",
      "            s.close()\n",
      "            result.append(port)\n",
      "        except (OSError, serial.SerialException):\n",
      "            pass\n",
      "    return result"
     ],
     "language": "python",
     "metadata": {},
     "outputs": [],
     "prompt_number": 103
    },
    {
     "cell_type": "code",
     "collapsed": false,
     "input": [
      "current_ports = serial_ports()\n",
      "ser = serial.Serial(current_ports[0], 9600, timeout=1)\n",
      "print 'Running on serial port ' + current_ports[0]"
     ],
     "language": "python",
     "metadata": {},
     "outputs": [
      {
       "output_type": "stream",
       "stream": "stdout",
       "text": [
        "Running on serial port /dev/tty.Bluetooth-Incoming-Port\n"
       ]
      }
     ],
     "prompt_number": 104
    },
    {
     "cell_type": "code",
     "collapsed": false,
     "input": [
      "#define interface items that are not buttons\n",
      "#-------- Serial Port Dropdown -------------\n",
      "port_select = widgets.DropdownWidget(values=serial_ports())\n",
      "\n",
      "def change_port(name, value):\n",
      "    ser.port = value\n",
      "    print \"Serial port changed to \" + ser.port\n",
      "\n",
      "port_select.on_trait_change(change_port, 'value')\n",
      "\n",
      "#--------- Travel Distance Box --------------\n",
      "distance_text = widgets.IntTextWidget(description=\"Travel Distance (in micron): \")"
     ],
     "language": "python",
     "metadata": {},
     "outputs": [],
     "prompt_number": 105
    },
    {
     "cell_type": "code",
     "collapsed": false,
     "input": [
      "#define buttons\n",
      "container_x = widgets.ContainerWidget()\n",
      "container_y = widgets.ContainerWidget()\n",
      "container_z = widgets.ContainerWidget()\n",
      "container_all = widgets.ContainerWidget()\n",
      "\n",
      "title_x = widgets.LatexWidget(value=\"X Axis\")\n",
      "title_y = widgets.LatexWidget(value=\"Y Axis\")\n",
      "title_z = widgets.LatexWidget(value=\"Z Axis\")\n",
      "\n",
      "x_plus = widgets.ButtonWidget(description='+')\n",
      "x_minus = widgets.ButtonWidget(description='-')\n",
      "\n",
      "y_plus = widgets.ButtonWidget(description='+')\n",
      "y_minus = widgets.ButtonWidget(description='-')\n",
      "\n",
      "z_plus = widgets.ButtonWidget(description='+')\n",
      "z_minus = widgets.ButtonWidget(description='-')\n",
      "\n",
      "#Assign buttons and labels to containers\n",
      "container_x.children = [title_x,x_plus,x_minus]\n",
      "container_y.children = [title_y,y_plus,y_minus]\n",
      "container_z.children = [title_z,z_plus,z_minus]\n",
      "container_all.children = [container_x,container_y,container_z]"
     ],
     "language": "python",
     "metadata": {},
     "outputs": [],
     "prompt_number": 106
    },
    {
     "cell_type": "code",
     "collapsed": false,
     "input": [
      "#button action methods\n",
      "def send_movement_command(XYZ_set, axis, direction, distance):\n",
      "    to_write = str(XYZ_set)+':'+str(axis)+':'+str(direction)+':'+str(distance)+\"\\n\"\n",
      "    ser.write(to_write)\n",
      "    print \"Sent: \" + to_write\n",
      "    \n",
      "def move_x_plus(button):\n",
      "    send_movement_command(1,'x','+',distance_text.value)\n",
      "\n",
      "def move_y_plus(button):\n",
      "    send_movement_command(1,'y','+',distance_text.value)\n",
      "    \n",
      "def move_z_plus(button):\n",
      "    send_movement_command(1,'z','+',distance_text.value)\n",
      "    \n",
      "def move_x_minus(button):\n",
      "    send_movement_command(1,'x','-',distance_text.value)\n",
      "    \n",
      "def move_y_minus(button):\n",
      "    send_movement_command(1,'y','-',distance_text.value)\n",
      "\n",
      "def move_z_minus(button):\n",
      "    send_movement_command(1,'z','-',distance_text.value)\n",
      "    \n",
      "#button action assignments\n",
      "x_plus.on_click(move_x_plus)\n",
      "x_minus.on_click(move_x_minus)\n",
      "y_plus.on_click(move_y_plus)\n",
      "y_minus.on_click(move_y_minus)\n",
      "z_plus.on_click(move_z_plus)\n",
      "z_minus.on_click(move_z_minus)"
     ],
     "language": "python",
     "metadata": {},
     "outputs": [],
     "prompt_number": 107
    },
    {
     "cell_type": "code",
     "collapsed": false,
     "input": [
      "#define and set styles\n",
      "title_css = {\"font-size\":\"20px\",\n",
      "             \"text-decoration\":\"underline\",\n",
      "             \"margin-bottom\":\"10px\"}\n",
      "button_css = {\"width\":\"40px\",\n",
      "              \"margin\":\"0 auto 2px\"}\n",
      "container_css = {\"margin-right\":\"10px\"}\n",
      "container_all_css = {\"flex-direction\":\"row\"}\n",
      "\n",
      "title_x.set_css(title_css)\n",
      "title_y.set_css(title_css)\n",
      "title_z.set_css(title_css)\n",
      "\n",
      "x_plus.set_css(button_css)\n",
      "x_minus.set_css(button_css)\n",
      "y_plus.set_css(button_css)\n",
      "y_minus.set_css(button_css)\n",
      "z_plus.set_css(button_css)\n",
      "z_minus.set_css(button_css)\n",
      "\n",
      "container_x.set_css(container_css)\n",
      "container_y.set_css(container_css)\n",
      "container_z.set_css(container_css)\n",
      "\n",
      "container_all.set_css(container_all_css)"
     ],
     "language": "python",
     "metadata": {},
     "outputs": [],
     "prompt_number": 108
    },
    {
     "cell_type": "code",
     "collapsed": false,
     "input": [
      "display(port_select)\n",
      "display(distance_text)\n",
      "display(container_all)"
     ],
     "language": "python",
     "metadata": {},
     "outputs": [
      {
       "output_type": "stream",
       "stream": "stdout",
       "text": [
        "Serial port changed to /dev/tty.usbmodem641\n"
       ]
      },
      {
       "output_type": "stream",
       "stream": "stdout",
       "text": [
        "Sent: 1:x:+:10\n",
        "\n"
       ]
      },
      {
       "output_type": "stream",
       "stream": "stdout",
       "text": [
        "Sent: 1:y:+:10\n",
        "\n"
       ]
      },
      {
       "output_type": "stream",
       "stream": "stdout",
       "text": [
        "Sent: 1:z:-:10\n",
        "\n"
       ]
      }
     ],
     "prompt_number": 109
    },
    {
     "cell_type": "code",
     "collapsed": false,
     "input": [
      "ser.readline()"
     ],
     "language": "python",
     "metadata": {},
     "outputs": [
      {
       "metadata": {},
       "output_type": "pyout",
       "prompt_number": 114,
       "text": [
        "'1:z:-:10\\n'"
       ]
      }
     ],
     "prompt_number": 114
    },
    {
     "cell_type": "code",
     "collapsed": false,
     "input": [],
     "language": "python",
     "metadata": {},
     "outputs": []
    }
   ],
   "metadata": {}
  }
 ]
}