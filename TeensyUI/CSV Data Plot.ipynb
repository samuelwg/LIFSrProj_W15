{
 "metadata": {
  "name": "",
  "signature": "sha256:e0605794bb949c5fd4ccff58ddfc7f75071e29bdd2ff6eb24a5eba22febb08ca"
 },
 "nbformat": 3,
 "nbformat_minor": 0,
 "worksheets": [
  {
   "cells": [
    {
     "cell_type": "code",
     "collapsed": false,
     "input": [
      "from pyqtgraph import QtGui, QtCore\n",
      "import pyqtgraph as pg\n",
      "import numpy as np\n",
      "\n",
      "data = np.loadtxt(open(\"RecordedData\\\\201541_113856.csv\",\"rb\"),delimiter=\",\",skiprows=2)\n",
      "\n",
      "## Always start by initializing Qt (only once per application)\n",
      "app = QtGui.QApplication([])\n",
      "\n",
      "## Define a top-level widget to hold everything\n",
      "w = QtGui.QWidget()\n",
      "w.resize(1000,600)\n",
      "w.setWindowTitle('Voltage Plots')\n",
      "\n",
      "numSamples = data.shape[0]\n",
      "\n",
      "#Create Plot Widgets\n",
      "wGL = pg.PlotWidget()\n",
      "wGL.setSizePolicy(QtGui.QSizePolicy.Expanding, QtGui.QSizePolicy.Expanding)\n",
      "wGL.setYRange(0, 3.3)\n",
      "wGL.setLabel('top', text = \"Plot 1\")\n",
      "sCurve = wGL.plot()\n",
      "\n",
      "wGL2 = pg.PlotWidget()\n",
      "wGL2.setSizePolicy(QtGui.QSizePolicy.Expanding, QtGui.QSizePolicy.Expanding)\n",
      "wGL2.setYRange(0, 3.3)\n",
      "wGL2.setLabel('top', text = \"Plot 2\")\n",
      "pCurve = wGL2.plot()\n",
      "\n",
      "lowerBound = QtGui.QSpinBox()\n",
      "lowerBound.setRange(0,numSamples)\n",
      "lowerBound.setSingleStep(100)\n",
      "\n",
      "upperBound = QtGui.QSpinBox()\n",
      "upperBound.setRange(0,numSamples)\n",
      "upperBound.setSingleStep(100)\n",
      "upperBound.setValue(numSamples)\n",
      "\n",
      "lowerBoundValue = 0\n",
      "upperBoundValue = numSamples\n",
      "\n",
      "## Create a grid layout to manage the widgets size and position\n",
      "layout = QtGui.QGridLayout()\n",
      "w.setLayout(layout)\n",
      "\n",
      "## Add widgets to the layout in their proper positions\n",
      "layout.addWidget(lowerBound, 1, 0)\n",
      "layout.addWidget(upperBound, 1, 1)\n",
      "layout.addWidget(wGL, 1, 2, 1, 1)  # wGL goes on right side, spanning 3 rows\n",
      "layout.addWidget(wGL2, 1, 3, 1, 1)\n",
      "\n",
      "sCurve.setData(data[:,1])\n",
      "pCurve.setData(data[:,2])\n",
      "\n",
      "\n",
      "## Display the widget as a new window\n",
      "w.show()\n",
      "\n",
      "def update():\n",
      "    wGL.setXRange(lowerBound.value(), upperBound.value())\n",
      "    wGL2.setXRange(lowerBound.value(), upperBound.value())\n",
      "    upperBound.setMinimum(lowerBound.value() + 1)\n",
      "    lowerBound.setMaximum(upperBound.value() - 1)\n",
      "    \n",
      "timer = QtCore.QTimer()\n",
      "timer.timeout.connect(update)\n",
      "timer.start(50)\n",
      "\n",
      "## Start the Qt event loop\n",
      "app.exec_()"
     ],
     "language": "python",
     "metadata": {},
     "outputs": [
      {
       "metadata": {},
       "output_type": "pyout",
       "prompt_number": 1,
       "text": [
        "0"
       ]
      }
     ],
     "prompt_number": 1
    },
    {
     "cell_type": "code",
     "collapsed": false,
     "input": [],
     "language": "python",
     "metadata": {},
     "outputs": []
    },
    {
     "cell_type": "code",
     "collapsed": false,
     "input": [],
     "language": "python",
     "metadata": {},
     "outputs": []
    },
    {
     "cell_type": "code",
     "collapsed": true,
     "input": [],
     "language": "python",
     "metadata": {},
     "outputs": []
    }
   ],
   "metadata": {}
  }
 ]
}